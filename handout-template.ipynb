{
  "nbformat": 4,
  "nbformat_minor": 0,
  "metadata": {
    "colab": {
      "name": "demo-handout-topic-student-name",
      "provenance": [],
      "collapsed_sections": [],
      "toc_visible": true,
      "include_colab_link": true
    },
    "kernelspec": {
      "display_name": "Python 3",
      "name": "python3"
    }
  },
  "cells": [
    {
      "cell_type": "markdown",
      "metadata": {
        "id": "view-in-github",
        "colab_type": "text"
      },
      "source": [
        "<a href=\"https://colab.research.google.com/github/mickaeltemporao/ids-materials/blob/main/handout-template.ipynb\" target=\"_parent\"><img src=\"https://colab.research.google.com/assets/colab-badge.svg\" alt=\"Open In Colab\"/></a>"
      ]
    },
    {
      "cell_type": "markdown",
      "metadata": {
        "id": "5fCEDCU_qrC0"
      },
      "source": [
        "# Instructions\n",
        "\n",
        "For your live demo you want to answer these three questions in less than 10-15 minutes while guiding students through some coding examples:\n",
        "\n",
        "- **What** \n",
        "- **Why**\n",
        "- **How**\n",
        "\n",
        "Feel free to adjust and rename sections as you please but people should easily answer these three questions after going through your handout.\n",
        "\n",
        "Don't forget to replace the topic and student name in the title of this notebook with your topic and your first and last name.\n"
      ]
    },
    {
      "cell_type": "markdown",
      "metadata": {
        "id": "GJBs_flRovLc"
      },
      "source": [
        "## What are we talking about?\n",
        "\n",
        "You want to provide a clear explanation of what you are talking about. You can use text, images, and code to illustrate."
      ]
    },
    {
      "cell_type": "code",
      "metadata": {
        "colab": {
          "base_uri": "https://localhost:8080/",
          "height": 34
        },
        "id": "gJr_9dXGpJ05",
        "outputId": "9f556d03-ec67-4950-a485-cfdba9ddd14d"
      },
      "source": [
        "seconds_in_a_day = 24 * 60 * 60\n",
        "seconds_in_a_day"
      ],
      "execution_count": null,
      "outputs": [
        {
          "data": {
            "text/plain": [
              "86400"
            ]
          },
          "execution_count": 0,
          "metadata": {
            "tags": []
          },
          "output_type": "execute_result"
        }
      ]
    },
    {
      "cell_type": "markdown",
      "metadata": {
        "id": "UdRyKR44dcNI"
      },
      "source": [
        "## Why does it matter?\n",
        "\n",
        "You want to tell others why this is important. Again you can use any form of text, image, code or anything you believe usefull to help others understand why this is important.\n"
      ]
    },
    {
      "cell_type": "markdown",
      "metadata": {
        "id": "OwuxHmxllTwN"
      },
      "source": [
        "## How?\n",
        "\n",
        "Finally you want to provide code and some toy examples to help others use and apply this concept. You can also create exercises that you will solve with other students during the live demo.\n",
        "\n",
        "Try to create code examples or exercises related to political science or sociology or at least try to think how one could!\n"
      ]
    },
    {
      "cell_type": "markdown",
      "metadata": {
        "id": "ufxBm1yRnruN"
      },
      "source": [
        "## Resources\n",
        "\n",
        "You can add some extra links or resources that you found online and find usefull to help other better understand this concept/topic. \n",
        "\n",
        "- [Link to resource 1](www.example.com): Short description.\n",
        "- [Link to resource 2](www.example.com): Short description.\n",
        "- [Link to resource 3](www.example.com): Short description.\n",
        "\n"
      ]
    },
    {
      "cell_type": "markdown",
      "metadata": {
        "id": "mLeoQhqYqpQw"
      },
      "source": [
        "## References\n",
        "\n",
        "Finally, if you used any references you should have cited them appropriately and referenced them here using the [APA citation format](https://www.mendeley.com/guides/apa-citation-guide)."
      ]
    }
  ]
}