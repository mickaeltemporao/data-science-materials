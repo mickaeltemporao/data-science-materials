{
  "nbformat": 4,
  "nbformat_minor": 0,
  "metadata": {
    "colab": {
      "name": "demo-handout-topic-student-name",
      "provenance": [],
      "collapsed_sections": [],
      "include_colab_link": true
    },
    "kernelspec": {
      "display_name": "Python 3",
      "name": "python3"
    }
  },
  "cells": [
    {
      "cell_type": "markdown",
      "metadata": {
        "id": "view-in-github",
        "colab_type": "text"
      },
      "source": [
        "<a href=\"https://colab.research.google.com/github/mickaeltemporao/ids-materials/blob/main/handout-template.ipynb\" target=\"_parent\"><img src=\"https://colab.research.google.com/assets/colab-badge.svg\" alt=\"Open In Colab\"/></a>"
      ]
    },
    {
      "cell_type": "markdown",
      "metadata": {
        "id": "5fCEDCU_qrC0"
      },
      "source": [
        "# Instructions\n",
        "\n",
        "For your live demo you want to answer these **3** questions in less than 10-15 minutes while guiding students through some coding examples:\n",
        "\n",
        "- **What** \n",
        "- **Why**\n",
        "- **How**\n",
        "\n",
        "Feel free to add, edit, delete, or rename the cells as you see fit. \n",
        "\n",
        "- You have to use *Markdown* code to format the **Text blocks**.\n",
        "- You have to use *Python* code to format the **Text blocks**.\n",
        "\n",
        "**Important Note:** You can and should use available existing ressources online related to your topic/concept to help you create your handout. \n",
        "- Python is one of the most popular programming languages and has a very welcoming community! \n",
        "- You will find plenty of ressources online by simply typping your topic/concept followed by *\"python tutorial\"* on Google, Youtube, StackOverflow, GitHub, ... \n",
        "\n",
        "By the end of your handout students should be able to easily answer the three initial questions. Don't forget to replace the topic and student name in the title of this notebook with your topic and your first and last name.\n",
        "\n",
        "**Delete this *Instructions* cell before you share your handout.**\n"
      ]
    },
    {
      "cell_type": "markdown",
      "metadata": {
        "id": "GJBs_flRovLc"
      },
      "source": [
        "## What are we talking about?\n",
        "\n",
        "You want to provide a clear explanation of what you are talking about. You can use text, images, code or to illustrate your point.\n",
        "\n",
        "In fact here is an image ...\n",
        "\n",
        "![Python Scrapping](https://images.unsplash.com/photo-1624953587687-daf255b6b80a?ixid=MnwxMjA3fDB8MHxwaG90by1wYWdlfHx8fGVufDB8fHx8&ixlib=rb-1.2.1&auto=format&fit=crop&w=400&q=80)"
      ]
    },
    {
      "cell_type": "markdown",
      "metadata": {
        "id": "UdRyKR44dcNI"
      },
      "source": [
        "## Why does it matter?\n",
        "\n",
        "You want to tell others why this is important. Again you can use any form of text, image, code or anything you believe usefull to help others understand why this topic/concept is important.\n",
        "\n",
        "Try to use examples to illustrate!\n"
      ]
    },
    {
      "cell_type": "markdown",
      "metadata": {
        "id": "OwuxHmxllTwN"
      },
      "source": [
        "## How?\n",
        "\n",
        "Finally you want to provide code and some toy examples to help others use and apply this concept. You can also create exercises that you will solve with other students during the live demo.\n",
        "\n",
        "Try to create code examples or exercises related to political science or sociology or at least try to think how one could!\n"
      ]
    },
    {
      "cell_type": "code",
      "metadata": {
        "colab": {
          "base_uri": "https://localhost:8080/"
        },
        "id": "gJr_9dXGpJ05",
        "outputId": "19d4510f-02e3-4678-ba92-c81da527468e"
      },
      "source": [
        "seconds_in_a_day = 24 * 60 * 60\n",
        "print(seconds_in_a_day)\n",
        "print(\"WoW!\")"
      ],
      "execution_count": 1,
      "outputs": [
        {
          "output_type": "stream",
          "name": "stdout",
          "text": [
            "86400\n",
            "WoW!\n"
          ]
        }
      ]
    },
    {
      "cell_type": "markdown",
      "metadata": {
        "id": "ufxBm1yRnruN"
      },
      "source": [
        "## Resources\n",
        "\n",
        "You can add some extra links or resources that you found online and find usefull to help other better understand this concept/topic. \n",
        "\n",
        "- [Link to resource 1](www.example.com): Short description.\n",
        "- [Link to resource 2](www.example.com): Short description.\n",
        "- [Link to resource 3](www.example.com): Short description.\n",
        "\n"
      ]
    },
    {
      "cell_type": "markdown",
      "metadata": {
        "id": "mLeoQhqYqpQw"
      },
      "source": [
        "## References\n",
        "\n",
        "Finally, if you used any references you should have cited them appropriately and referenced them here using the [APA citation format](https://www.mendeley.com/guides/apa-citation-guide)."
      ]
    }
  ]
}